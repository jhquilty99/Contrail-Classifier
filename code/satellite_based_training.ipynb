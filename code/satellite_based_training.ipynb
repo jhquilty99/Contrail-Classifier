{
 "cells": [
  {
   "cell_type": "code",
   "execution_count": null,
   "metadata": {},
   "outputs": [],
   "source": [
    "from google.cloud import storage"
   ]
  },
  {
   "cell_type": "code",
   "execution_count": null,
   "metadata": {},
   "outputs": [],
   "source": [
    "# Connect to the Google Cloud api, so that we pull the data only when we need it\n",
    "def load_all_images_in_bucket(bucket_name):\n",
    "    \"\"\"Loads all blobs from the bucket into memory as images.\"\"\"\n",
    "    storage_client = storage.Client()\n",
    "    bucket = storage_client.bucket(bucket_name)\n",
    "    \n",
    "    images = []\n",
    "    # Loop over all blobs in the bucket.\n",
    "    for blob in bucket.list_blobs():\n",
    "        # Download the blob to an in-memory file.\n",
    "        blob_file = io.BytesIO()\n",
    "        blob.download_to_file(blob_file)\n",
    "        \n",
    "        # Reset file pointer to the beginning.\n",
    "        blob_file.seek(0)\n",
    "        \n",
    "        # Open the file as an image and add it to the list of images.\n",
    "        try:\n",
    "            image = Image.open(blob_file)\n",
    "            images.append(image)\n",
    "            print('Image found 8^)')\n",
    "        except IOError:\n",
    "            print(f'Failed to open {blob.name} as an image.')\n",
    "\n",
    "    return images\n",
    "\n",
    "bucket_name = \"goes_contrails_dataset\"\n",
    "\n",
    "images = load_all_images_in_bucket(bucket_name)\n",
    "\n",
    "# Now you can use the 'images' list in your code.\n",
    "# For example, show the first image (if there is one):\n",
    "#if images:\n",
    "#    images[0].show()"
   ]
  }
 ],
 "metadata": {
  "language_info": {
   "name": "python"
  },
  "orig_nbformat": 4
 },
 "nbformat": 4,
 "nbformat_minor": 2
}
